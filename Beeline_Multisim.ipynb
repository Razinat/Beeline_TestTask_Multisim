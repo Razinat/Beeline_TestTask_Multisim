{
 "cells": [
  {
   "cell_type": "code",
   "execution_count": 1,
   "metadata": {
    "ExecuteTime": {
     "end_time": "2019-08-05T09:31:28.406599Z",
     "start_time": "2019-08-05T09:31:28.053515Z"
    }
   },
   "outputs": [],
   "source": [
    "import pandas as pd \n",
    "import numpy as np"
   ]
  },
  {
   "cell_type": "markdown",
   "metadata": {
    "ExecuteTime": {
     "end_time": "2019-08-05T09:46:33.481525Z",
     "start_time": "2019-08-05T09:46:33.477588Z"
    }
   },
   "source": [
    "В этом задании Вам необходимо предсказать **является ли абонент мультисимером** (имеет 2+ СИМ-карты). \n"
   ]
  },
  {
   "cell_type": "markdown",
   "metadata": {},
   "source": [
    "### Задание\n",
    "\n",
    "Проведите преодобработку и анализ фичей, постройте модель бинарной классификации, оцените ее точность, обоснуйте выбор метрики и не забудьте сделать предсказания для абонентов, у которых поле **'target'** содержит значение **'NaN'**."
   ]
  },
  {
   "cell_type": "markdown",
   "metadata": {},
   "source": [
    "**1. Считайте датасет и проведите первичный анализ**\n",
    "\n",
    "*Описание полей, как и сам датасет. доступны внутри файла multisim_dataset*"
   ]
  },
  {
   "cell_type": "markdown",
   "metadata": {},
   "source": [
    "**2. Постройте простейшую модель (*baseline*) и сделайте выводы**\n",
    "\n",
    "*Можно использовать любые модели*"
   ]
  },
  {
   "cell_type": "markdown",
   "metadata": {},
   "source": [
    "**3. Визуализируйте значения фичей в зависимости от таргета или других фич**\n",
    "\n",
    "*Интерпретируйте полученные результаты*"
   ]
  },
  {
   "cell_type": "markdown",
   "metadata": {},
   "source": [
    "**4. Постройте модель с учетом прошлых пунктов**"
   ]
  },
  {
   "cell_type": "markdown",
   "metadata": {},
   "source": [
    "**5. Сделайте предсказания и выведите значения метрик (самостоятельно написав основные функции, например, через confusion matrix)**"
   ]
  },
  {
   "cell_type": "markdown",
   "metadata": {},
   "source": [
    "**6. Опишите следующие шаги, которые Вы бы решили делать в следующих итерациях проекта**"
   ]
  },
  {
   "cell_type": "markdown",
   "metadata": {},
   "source": [
    "***_------------------------------------------------------------------------------------------------------------------------------------------------------------------------------------------------------------------_***"
   ]
  },
  {
   "cell_type": "markdown",
   "metadata": {},
   "source": [
    "***-----------------------------------------------------------------------------------------------------------------------------------------------------------------------Автор: Евстифеев Алексей\n",
    "    -----------------------------------------------------------------------------------------------------------------------------------------------------------------------email: Raz1nad@yandex.ru***"
   ]
  },
  {
   "cell_type": "markdown",
   "metadata": {},
   "source": [
    "# 1. Считываем датасет    ___------------------------------------------------___"
   ]
  },
  {
   "cell_type": "markdown",
   "metadata": {},
   "source": [
    "***Загрузим датасет, посмотрим на данные***"
   ]
  },
  {
   "cell_type": "code",
   "execution_count": 2,
   "metadata": {},
   "outputs": [],
   "source": [
    "import warnings\n",
    "warnings.filterwarnings('ignore')\n",
    "from matplotlib import pyplot as plt\n",
    "from seaborn import heatmap\n",
    "from seaborn import countplot"
   ]
  },
  {
   "cell_type": "code",
   "execution_count": 3,
   "metadata": {},
   "outputs": [],
   "source": [
    "data = pd.read_excel('multisim_dataset.xlsx') # Загружаем датасет"
   ]
  },
  {
   "cell_type": "code",
   "execution_count": 4,
   "metadata": {
    "scrolled": true
   },
   "outputs": [
    {
     "data": {
      "text/html": [
       "<div>\n",
       "<style scoped>\n",
       "    .dataframe tbody tr th:only-of-type {\n",
       "        vertical-align: middle;\n",
       "    }\n",
       "\n",
       "    .dataframe tbody tr th {\n",
       "        vertical-align: top;\n",
       "    }\n",
       "\n",
       "    .dataframe thead th {\n",
       "        text-align: right;\n",
       "    }\n",
       "</style>\n",
       "<table border=\"1\" class=\"dataframe\">\n",
       "  <thead>\n",
       "    <tr style=\"text-align: right;\">\n",
       "      <th></th>\n",
       "      <th>id</th>\n",
       "      <th>mg_traffic_in</th>\n",
       "      <th>tp_code</th>\n",
       "      <th>num_voice_out</th>\n",
       "      <th>tp_change_date</th>\n",
       "      <th>uniq_calls_cnt</th>\n",
       "      <th>age_cat</th>\n",
       "      <th>tech_sms_cnt_3m</th>\n",
       "      <th>tech_sms_cnt_6m</th>\n",
       "      <th>called_ctn_all_group</th>\n",
       "      <th>device_cost</th>\n",
       "      <th>traf_kb</th>\n",
       "      <th>sim_type</th>\n",
       "      <th>gender_male_prob</th>\n",
       "      <th>complex_value_sum</th>\n",
       "      <th>complex_value_size</th>\n",
       "      <th>imei_cnt</th>\n",
       "      <th>main_balance_adjust_minus_cnt</th>\n",
       "      <th>state_code</th>\n",
       "      <th>macro_state</th>\n",
       "      <th>time_onnet</th>\n",
       "      <th>sum_recharges_3m</th>\n",
       "      <th>year</th>\n",
       "      <th>month</th>\n",
       "      <th>target</th>\n",
       "    </tr>\n",
       "  </thead>\n",
       "  <tbody>\n",
       "    <tr>\n",
       "      <th>0</th>\n",
       "      <td>101</td>\n",
       "      <td>2.98</td>\n",
       "      <td>1.0</td>\n",
       "      <td>17.0</td>\n",
       "      <td>NaT</td>\n",
       "      <td>53</td>\n",
       "      <td>4</td>\n",
       "      <td>657.0</td>\n",
       "      <td>1917.0</td>\n",
       "      <td>0.0</td>\n",
       "      <td>4955.0</td>\n",
       "      <td>6233088</td>\n",
       "      <td>DualSim</td>\n",
       "      <td>0.908237</td>\n",
       "      <td>27287.666667</td>\n",
       "      <td>4.666667</td>\n",
       "      <td>1.0</td>\n",
       "      <td>NaN</td>\n",
       "      <td>AST</td>\n",
       "      <td>1</td>\n",
       "      <td>3977</td>\n",
       "      <td>809.00</td>\n",
       "      <td>2019</td>\n",
       "      <td>1</td>\n",
       "      <td>NaN</td>\n",
       "    </tr>\n",
       "    <tr>\n",
       "      <th>1</th>\n",
       "      <td>102</td>\n",
       "      <td>1.82</td>\n",
       "      <td>2.0</td>\n",
       "      <td>97.0</td>\n",
       "      <td>NaT</td>\n",
       "      <td>82</td>\n",
       "      <td>5</td>\n",
       "      <td>0.0</td>\n",
       "      <td>22.0</td>\n",
       "      <td>5.0</td>\n",
       "      <td>6990.0</td>\n",
       "      <td>47462400</td>\n",
       "      <td>DualSim</td>\n",
       "      <td>0.871256</td>\n",
       "      <td>16611.000000</td>\n",
       "      <td>1.666667</td>\n",
       "      <td>1.0</td>\n",
       "      <td>NaN</td>\n",
       "      <td>ORB</td>\n",
       "      <td>1</td>\n",
       "      <td>1617</td>\n",
       "      <td>622.00</td>\n",
       "      <td>2019</td>\n",
       "      <td>1</td>\n",
       "      <td>NaN</td>\n",
       "    </tr>\n",
       "    <tr>\n",
       "      <th>2</th>\n",
       "      <td>103</td>\n",
       "      <td>0.00</td>\n",
       "      <td>3.0</td>\n",
       "      <td>22.0</td>\n",
       "      <td>NaT</td>\n",
       "      <td>58</td>\n",
       "      <td>3</td>\n",
       "      <td>162.0</td>\n",
       "      <td>246.0</td>\n",
       "      <td>0.0</td>\n",
       "      <td>13689.0</td>\n",
       "      <td>0</td>\n",
       "      <td>DualSim</td>\n",
       "      <td>0.928517</td>\n",
       "      <td>20658.000000</td>\n",
       "      <td>1.000000</td>\n",
       "      <td>1.0</td>\n",
       "      <td>NaN</td>\n",
       "      <td>VIP</td>\n",
       "      <td>1</td>\n",
       "      <td>2703</td>\n",
       "      <td>366.04</td>\n",
       "      <td>2019</td>\n",
       "      <td>1</td>\n",
       "      <td>1.0</td>\n",
       "    </tr>\n",
       "    <tr>\n",
       "      <th>3</th>\n",
       "      <td>104</td>\n",
       "      <td>0.00</td>\n",
       "      <td>4.0</td>\n",
       "      <td>30.0</td>\n",
       "      <td>NaT</td>\n",
       "      <td>61</td>\n",
       "      <td>10</td>\n",
       "      <td>NaN</td>\n",
       "      <td>NaN</td>\n",
       "      <td>0.0</td>\n",
       "      <td>490.0</td>\n",
       "      <td>0</td>\n",
       "      <td>DualSim</td>\n",
       "      <td>0.644491</td>\n",
       "      <td>18045.000000</td>\n",
       "      <td>2.666667</td>\n",
       "      <td>1.0</td>\n",
       "      <td>NaN</td>\n",
       "      <td>KCH</td>\n",
       "      <td>1</td>\n",
       "      <td>1153</td>\n",
       "      <td>1122.58</td>\n",
       "      <td>2019</td>\n",
       "      <td>1</td>\n",
       "      <td>1.0</td>\n",
       "    </tr>\n",
       "    <tr>\n",
       "      <th>4</th>\n",
       "      <td>105</td>\n",
       "      <td>0.80</td>\n",
       "      <td>5.0</td>\n",
       "      <td>29.0</td>\n",
       "      <td>NaT</td>\n",
       "      <td>49</td>\n",
       "      <td>0</td>\n",
       "      <td>66.0</td>\n",
       "      <td>130.0</td>\n",
       "      <td>1.0</td>\n",
       "      <td>16051.0</td>\n",
       "      <td>0</td>\n",
       "      <td>DualSim</td>\n",
       "      <td>0.949505</td>\n",
       "      <td>9032.000000</td>\n",
       "      <td>1.000000</td>\n",
       "      <td>1.0</td>\n",
       "      <td>1.333333</td>\n",
       "      <td>STV</td>\n",
       "      <td>1</td>\n",
       "      <td>2174</td>\n",
       "      <td>633.20</td>\n",
       "      <td>2019</td>\n",
       "      <td>1</td>\n",
       "      <td>0.0</td>\n",
       "    </tr>\n",
       "  </tbody>\n",
       "</table>\n",
       "</div>"
      ],
      "text/plain": [
       "    id  mg_traffic_in  tp_code  num_voice_out tp_change_date  uniq_calls_cnt  \\\n",
       "0  101           2.98      1.0           17.0            NaT              53   \n",
       "1  102           1.82      2.0           97.0            NaT              82   \n",
       "2  103           0.00      3.0           22.0            NaT              58   \n",
       "3  104           0.00      4.0           30.0            NaT              61   \n",
       "4  105           0.80      5.0           29.0            NaT              49   \n",
       "\n",
       "   age_cat  tech_sms_cnt_3m  tech_sms_cnt_6m  called_ctn_all_group  \\\n",
       "0        4            657.0           1917.0                   0.0   \n",
       "1        5              0.0             22.0                   5.0   \n",
       "2        3            162.0            246.0                   0.0   \n",
       "3       10              NaN              NaN                   0.0   \n",
       "4        0             66.0            130.0                   1.0   \n",
       "\n",
       "   device_cost   traf_kb sim_type  gender_male_prob  complex_value_sum  \\\n",
       "0       4955.0   6233088  DualSim          0.908237       27287.666667   \n",
       "1       6990.0  47462400  DualSim          0.871256       16611.000000   \n",
       "2      13689.0         0  DualSim          0.928517       20658.000000   \n",
       "3        490.0         0  DualSim          0.644491       18045.000000   \n",
       "4      16051.0         0  DualSim          0.949505        9032.000000   \n",
       "\n",
       "   complex_value_size  imei_cnt  main_balance_adjust_minus_cnt state_code  \\\n",
       "0            4.666667       1.0                            NaN        AST   \n",
       "1            1.666667       1.0                            NaN        ORB   \n",
       "2            1.000000       1.0                            NaN        VIP   \n",
       "3            2.666667       1.0                            NaN        KCH   \n",
       "4            1.000000       1.0                       1.333333        STV   \n",
       "\n",
       "   macro_state  time_onnet  sum_recharges_3m  year  month  target  \n",
       "0            1        3977            809.00  2019      1     NaN  \n",
       "1            1        1617            622.00  2019      1     NaN  \n",
       "2            1        2703            366.04  2019      1     1.0  \n",
       "3            1        1153           1122.58  2019      1     1.0  \n",
       "4            1        2174            633.20  2019      1     0.0  "
      ]
     },
     "execution_count": 4,
     "metadata": {},
     "output_type": "execute_result"
    }
   ],
   "source": [
    "pd.set_option('display.max_columns',100)      # Увеличиваем количество столбцов ДФ при отображении\n",
    "data.head()                                   # Посмотрим, что загрузили"
   ]
  },
  {
   "cell_type": "code",
   "execution_count": 5,
   "metadata": {},
   "outputs": [
    {
     "data": {
      "text/html": [
       "<div>\n",
       "<style scoped>\n",
       "    .dataframe tbody tr th:only-of-type {\n",
       "        vertical-align: middle;\n",
       "    }\n",
       "\n",
       "    .dataframe tbody tr th {\n",
       "        vertical-align: top;\n",
       "    }\n",
       "\n",
       "    .dataframe thead th {\n",
       "        text-align: right;\n",
       "    }\n",
       "</style>\n",
       "<table border=\"1\" class=\"dataframe\">\n",
       "  <thead>\n",
       "    <tr style=\"text-align: right;\">\n",
       "      <th></th>\n",
       "      <th>id</th>\n",
       "      <th>mg_traffic_in</th>\n",
       "      <th>tp_code</th>\n",
       "      <th>num_voice_out</th>\n",
       "      <th>uniq_calls_cnt</th>\n",
       "      <th>age_cat</th>\n",
       "      <th>tech_sms_cnt_3m</th>\n",
       "      <th>tech_sms_cnt_6m</th>\n",
       "      <th>called_ctn_all_group</th>\n",
       "      <th>device_cost</th>\n",
       "      <th>traf_kb</th>\n",
       "      <th>gender_male_prob</th>\n",
       "      <th>complex_value_sum</th>\n",
       "      <th>complex_value_size</th>\n",
       "      <th>imei_cnt</th>\n",
       "      <th>main_balance_adjust_minus_cnt</th>\n",
       "      <th>macro_state</th>\n",
       "      <th>time_onnet</th>\n",
       "      <th>sum_recharges_3m</th>\n",
       "      <th>year</th>\n",
       "      <th>month</th>\n",
       "      <th>target</th>\n",
       "    </tr>\n",
       "  </thead>\n",
       "  <tbody>\n",
       "    <tr>\n",
       "      <th>count</th>\n",
       "      <td>90000.000000</td>\n",
       "      <td>90000.000000</td>\n",
       "      <td>60347.000000</td>\n",
       "      <td>30000.000000</td>\n",
       "      <td>90000.000000</td>\n",
       "      <td>90000.000000</td>\n",
       "      <td>61695.000000</td>\n",
       "      <td>61695.000000</td>\n",
       "      <td>89916.000000</td>\n",
       "      <td>88035.000000</td>\n",
       "      <td>9.000000e+04</td>\n",
       "      <td>90000.000000</td>\n",
       "      <td>89946.000000</td>\n",
       "      <td>89946.000000</td>\n",
       "      <td>89490.000000</td>\n",
       "      <td>29910.000000</td>\n",
       "      <td>90000.000000</td>\n",
       "      <td>90000.000000</td>\n",
       "      <td>90000.00000</td>\n",
       "      <td>90000.000000</td>\n",
       "      <td>90000.000000</td>\n",
       "      <td>73249.000000</td>\n",
       "    </tr>\n",
       "    <tr>\n",
       "      <th>mean</th>\n",
       "      <td>15100.500000</td>\n",
       "      <td>26.259969</td>\n",
       "      <td>214.879663</td>\n",
       "      <td>59.208300</td>\n",
       "      <td>89.164800</td>\n",
       "      <td>6.035033</td>\n",
       "      <td>290.413567</td>\n",
       "      <td>603.395915</td>\n",
       "      <td>1.752269</td>\n",
       "      <td>6297.207633</td>\n",
       "      <td>3.838716e+08</td>\n",
       "      <td>0.507622</td>\n",
       "      <td>21274.900490</td>\n",
       "      <td>2.112951</td>\n",
       "      <td>1.345089</td>\n",
       "      <td>1.499488</td>\n",
       "      <td>1.383700</td>\n",
       "      <td>2850.285833</td>\n",
       "      <td>898.82296</td>\n",
       "      <td>2018.666667</td>\n",
       "      <td>5.000000</td>\n",
       "      <td>0.496034</td>\n",
       "    </tr>\n",
       "    <tr>\n",
       "      <th>std</th>\n",
       "      <td>8660.302146</td>\n",
       "      <td>92.278711</td>\n",
       "      <td>239.087220</td>\n",
       "      <td>75.254333</td>\n",
       "      <td>84.453874</td>\n",
       "      <td>2.597720</td>\n",
       "      <td>388.273102</td>\n",
       "      <td>763.069617</td>\n",
       "      <td>2.192029</td>\n",
       "      <td>6796.624127</td>\n",
       "      <td>1.430268e+09</td>\n",
       "      <td>0.346736</td>\n",
       "      <td>16214.049069</td>\n",
       "      <td>1.557484</td>\n",
       "      <td>3.737140</td>\n",
       "      <td>1.409520</td>\n",
       "      <td>0.486289</td>\n",
       "      <td>1703.560338</td>\n",
       "      <td>1974.42211</td>\n",
       "      <td>0.471407</td>\n",
       "      <td>4.966582</td>\n",
       "      <td>0.499988</td>\n",
       "    </tr>\n",
       "    <tr>\n",
       "      <th>min</th>\n",
       "      <td>101.000000</td>\n",
       "      <td>0.000000</td>\n",
       "      <td>1.000000</td>\n",
       "      <td>0.000000</td>\n",
       "      <td>2.000000</td>\n",
       "      <td>0.000000</td>\n",
       "      <td>0.000000</td>\n",
       "      <td>1.000000</td>\n",
       "      <td>0.000000</td>\n",
       "      <td>-99.000000</td>\n",
       "      <td>0.000000e+00</td>\n",
       "      <td>0.006721</td>\n",
       "      <td>0.000000</td>\n",
       "      <td>0.000000</td>\n",
       "      <td>1.000000</td>\n",
       "      <td>1.000000</td>\n",
       "      <td>1.000000</td>\n",
       "      <td>182.000000</td>\n",
       "      <td>-9004.00000</td>\n",
       "      <td>2018.000000</td>\n",
       "      <td>1.000000</td>\n",
       "      <td>0.000000</td>\n",
       "    </tr>\n",
       "    <tr>\n",
       "      <th>25%</th>\n",
       "      <td>7600.750000</td>\n",
       "      <td>0.220000</td>\n",
       "      <td>54.000000</td>\n",
       "      <td>12.000000</td>\n",
       "      <td>40.000000</td>\n",
       "      <td>4.000000</td>\n",
       "      <td>34.000000</td>\n",
       "      <td>76.000000</td>\n",
       "      <td>0.000000</td>\n",
       "      <td>457.000000</td>\n",
       "      <td>0.000000e+00</td>\n",
       "      <td>0.140512</td>\n",
       "      <td>13967.666667</td>\n",
       "      <td>1.000000</td>\n",
       "      <td>1.000000</td>\n",
       "      <td>1.000000</td>\n",
       "      <td>1.000000</td>\n",
       "      <td>1296.000000</td>\n",
       "      <td>300.00000</td>\n",
       "      <td>2018.000000</td>\n",
       "      <td>1.000000</td>\n",
       "      <td>0.000000</td>\n",
       "    </tr>\n",
       "    <tr>\n",
       "      <th>50%</th>\n",
       "      <td>15100.500000</td>\n",
       "      <td>3.520000</td>\n",
       "      <td>136.000000</td>\n",
       "      <td>34.000000</td>\n",
       "      <td>66.000000</td>\n",
       "      <td>6.000000</td>\n",
       "      <td>175.000000</td>\n",
       "      <td>369.000000</td>\n",
       "      <td>1.000000</td>\n",
       "      <td>4990.000000</td>\n",
       "      <td>0.000000e+00</td>\n",
       "      <td>0.528848</td>\n",
       "      <td>18207.666667</td>\n",
       "      <td>1.666667</td>\n",
       "      <td>1.000000</td>\n",
       "      <td>1.000000</td>\n",
       "      <td>1.000000</td>\n",
       "      <td>2634.000000</td>\n",
       "      <td>680.01500</td>\n",
       "      <td>2019.000000</td>\n",
       "      <td>2.000000</td>\n",
       "      <td>0.000000</td>\n",
       "    </tr>\n",
       "    <tr>\n",
       "      <th>75%</th>\n",
       "      <td>22600.250000</td>\n",
       "      <td>15.352500</td>\n",
       "      <td>299.000000</td>\n",
       "      <td>77.000000</td>\n",
       "      <td>110.000000</td>\n",
       "      <td>8.000000</td>\n",
       "      <td>433.000000</td>\n",
       "      <td>900.000000</td>\n",
       "      <td>3.000000</td>\n",
       "      <td>9628.000000</td>\n",
       "      <td>3.377459e+07</td>\n",
       "      <td>0.861485</td>\n",
       "      <td>24500.000000</td>\n",
       "      <td>3.000000</td>\n",
       "      <td>1.000000</td>\n",
       "      <td>1.833333</td>\n",
       "      <td>2.000000</td>\n",
       "      <td>4469.000000</td>\n",
       "      <td>1220.00000</td>\n",
       "      <td>2019.000000</td>\n",
       "      <td>12.000000</td>\n",
       "      <td>1.000000</td>\n",
       "    </tr>\n",
       "    <tr>\n",
       "      <th>max</th>\n",
       "      <td>30100.000000</td>\n",
       "      <td>5964.370000</td>\n",
       "      <td>1406.000000</td>\n",
       "      <td>1129.000000</td>\n",
       "      <td>2530.000000</td>\n",
       "      <td>10.000000</td>\n",
       "      <td>18459.000000</td>\n",
       "      <td>20303.000000</td>\n",
       "      <td>32.000000</td>\n",
       "      <td>90010.000000</td>\n",
       "      <td>3.711528e+10</td>\n",
       "      <td>0.992713</td>\n",
       "      <td>378760.000000</td>\n",
       "      <td>14.333333</td>\n",
       "      <td>547.000000</td>\n",
       "      <td>65.000000</td>\n",
       "      <td>2.000000</td>\n",
       "      <td>7029.000000</td>\n",
       "      <td>179482.67000</td>\n",
       "      <td>2019.000000</td>\n",
       "      <td>12.000000</td>\n",
       "      <td>1.000000</td>\n",
       "    </tr>\n",
       "  </tbody>\n",
       "</table>\n",
       "</div>"
      ],
      "text/plain": [
       "                 id  mg_traffic_in       tp_code  num_voice_out  \\\n",
       "count  90000.000000   90000.000000  60347.000000   30000.000000   \n",
       "mean   15100.500000      26.259969    214.879663      59.208300   \n",
       "std     8660.302146      92.278711    239.087220      75.254333   \n",
       "min      101.000000       0.000000      1.000000       0.000000   \n",
       "25%     7600.750000       0.220000     54.000000      12.000000   \n",
       "50%    15100.500000       3.520000    136.000000      34.000000   \n",
       "75%    22600.250000      15.352500    299.000000      77.000000   \n",
       "max    30100.000000    5964.370000   1406.000000    1129.000000   \n",
       "\n",
       "       uniq_calls_cnt       age_cat  tech_sms_cnt_3m  tech_sms_cnt_6m  \\\n",
       "count    90000.000000  90000.000000     61695.000000     61695.000000   \n",
       "mean        89.164800      6.035033       290.413567       603.395915   \n",
       "std         84.453874      2.597720       388.273102       763.069617   \n",
       "min          2.000000      0.000000         0.000000         1.000000   \n",
       "25%         40.000000      4.000000        34.000000        76.000000   \n",
       "50%         66.000000      6.000000       175.000000       369.000000   \n",
       "75%        110.000000      8.000000       433.000000       900.000000   \n",
       "max       2530.000000     10.000000     18459.000000     20303.000000   \n",
       "\n",
       "       called_ctn_all_group   device_cost       traf_kb  gender_male_prob  \\\n",
       "count          89916.000000  88035.000000  9.000000e+04      90000.000000   \n",
       "mean               1.752269   6297.207633  3.838716e+08          0.507622   \n",
       "std                2.192029   6796.624127  1.430268e+09          0.346736   \n",
       "min                0.000000    -99.000000  0.000000e+00          0.006721   \n",
       "25%                0.000000    457.000000  0.000000e+00          0.140512   \n",
       "50%                1.000000   4990.000000  0.000000e+00          0.528848   \n",
       "75%                3.000000   9628.000000  3.377459e+07          0.861485   \n",
       "max               32.000000  90010.000000  3.711528e+10          0.992713   \n",
       "\n",
       "       complex_value_sum  complex_value_size      imei_cnt  \\\n",
       "count       89946.000000        89946.000000  89490.000000   \n",
       "mean        21274.900490            2.112951      1.345089   \n",
       "std         16214.049069            1.557484      3.737140   \n",
       "min             0.000000            0.000000      1.000000   \n",
       "25%         13967.666667            1.000000      1.000000   \n",
       "50%         18207.666667            1.666667      1.000000   \n",
       "75%         24500.000000            3.000000      1.000000   \n",
       "max        378760.000000           14.333333    547.000000   \n",
       "\n",
       "       main_balance_adjust_minus_cnt   macro_state    time_onnet  \\\n",
       "count                   29910.000000  90000.000000  90000.000000   \n",
       "mean                        1.499488      1.383700   2850.285833   \n",
       "std                         1.409520      0.486289   1703.560338   \n",
       "min                         1.000000      1.000000    182.000000   \n",
       "25%                         1.000000      1.000000   1296.000000   \n",
       "50%                         1.000000      1.000000   2634.000000   \n",
       "75%                         1.833333      2.000000   4469.000000   \n",
       "max                        65.000000      2.000000   7029.000000   \n",
       "\n",
       "       sum_recharges_3m          year         month        target  \n",
       "count       90000.00000  90000.000000  90000.000000  73249.000000  \n",
       "mean          898.82296   2018.666667      5.000000      0.496034  \n",
       "std          1974.42211      0.471407      4.966582      0.499988  \n",
       "min         -9004.00000   2018.000000      1.000000      0.000000  \n",
       "25%           300.00000   2018.000000      1.000000      0.000000  \n",
       "50%           680.01500   2019.000000      2.000000      0.000000  \n",
       "75%          1220.00000   2019.000000     12.000000      1.000000  \n",
       "max        179482.67000   2019.000000     12.000000      1.000000  "
      ]
     },
     "execution_count": 5,
     "metadata": {},
     "output_type": "execute_result"
    }
   ],
   "source": [
    "data.describe()"
   ]
  },
  {
   "cell_type": "markdown",
   "metadata": {},
   "source": [
    "***В глаза бросается большие пропуски значений времени (NaT) столбца tp_change_date. Удалим столбец из датасета. Так же бесполезен id клиента, удаляем***"
   ]
  },
  {
   "cell_type": "code",
   "execution_count": 6,
   "metadata": {},
   "outputs": [],
   "source": [
    "data.drop(['tp_change_date', 'id'], axis='columns', inplace=True)"
   ]
  },
  {
   "cell_type": "markdown",
   "metadata": {},
   "source": [
    "# 3. Визуализируем признаковое пространство   ___------------------------------___"
   ]
  },
  {
   "cell_type": "markdown",
   "metadata": {},
   "source": [
    "***Взглядем на баланс классов в нашем датасете:***"
   ]
  },
  {
   "cell_type": "code",
   "execution_count": 7,
   "metadata": {},
   "outputs": [
    {
     "data": {
      "text/plain": [
       "<matplotlib.axes._subplots.AxesSubplot at 0x2b94c208160>"
      ]
     },
     "execution_count": 7,
     "metadata": {},
     "output_type": "execute_result"
    },
    {
     "data": {
      "image/png": "[encoded data removed]",
      "text/plain": [
       "<Figure size 432x288 with 1 Axes>"
      ]
     },
     "metadata": {
      "needs_background": "light"
     },
     "output_type": "display_data"
    }
   ],
   "source": [
    "countplot(data.target)"
   ]
  },
  {
   "cell_type": "markdown",
   "metadata": {},
   "source": [
    "***Баланс классов практически идеальный***"
   ]
  },
  {
   "cell_type": "markdown",
   "metadata": {},
   "source": [
    "***Посмотрим на вещественные признаки \"main_balance_adjust_minus_cnt\" (кол-во корректировок баланса),\"num_voice_out\" (кол-во исходящих)\n",
    "uniq_calls_cnt (кол-во уникальных контрагентов):***"
   ]
  },
  {
   "cell_type": "markdown",
   "metadata": {},
   "source": [
    "***Посмотрим на гистрограмму плотности распеределения***"
   ]
  },
  {
   "cell_type": "code",
   "execution_count": 8,
   "metadata": {
    "scrolled": true
   },
   "outputs": [
    {
     "data": {
      "image/png": "[encoded data removed]",
      "text/plain": [
       "<Figure size 936x252 with 3 Axes>"
      ]
     },
     "metadata": {
      "needs_background": "light"
     },
     "output_type": "display_data"
    }
   ],
   "source": [
    "f, (ax1, ax2, ax3) = plt.subplots(1, 3, figsize=(13,3.5))\n",
    "hist_1 = data['main_balance_adjust_minus_cnt'].hist(bins=100, ax = ax1)\n",
    "hist_2 = data['num_voice_out'].hist(bins=100, ax = ax2)\n",
    "hist_3 = data['uniq_calls_cnt'].hist(bins=100, ax = ax3)\n",
    "plt.show()"
   ]
  },
  {
   "cell_type": "markdown",
   "metadata": {},
   "source": [
    "***Видим, что максимальные значения, это какие-то выбросы. Посмотрим более детально на плотность распределения***"
   ]
  },
  {
   "cell_type": "code",
   "execution_count": 9,
   "metadata": {},
   "outputs": [
    {
     "data": {
      "image/png": "[encoded data removed]",
      "text/plain": [
       "<Figure size 936x252 with 3 Axes>"
      ]
     },
     "metadata": {
      "needs_background": "light"
     },
     "output_type": "display_data"
    }
   ],
   "source": [
    "f, (ax1, ax2, ax3) = plt.subplots(1, 3, figsize=(13,3.5))\n",
    "hist_1 = data['main_balance_adjust_minus_cnt'][data.main_balance_adjust_minus_cnt < 8.].hist(bins=50, ax = ax1)\n",
    "hist_2 = data['num_voice_out'][data.num_voice_out < 500.].hist(bins=50, ax = ax2)\n",
    "hist_3 = data['uniq_calls_cnt'][data.uniq_calls_cnt < 500.].hist(bins=50, ax = ax3)\n",
    "\n",
    "plt.show()"
   ]
  },
  {
   "cell_type": "markdown",
   "metadata": {},
   "source": [
    "***Будем заполнять все пропущенные значение вещественных признаков медианой***"
   ]
  },
  {
   "cell_type": "code",
   "execution_count": 10,
   "metadata": {},
   "outputs": [],
   "source": [
    "# Вещественные признаки:\n",
    "real_features = ['main_balance_adjust_minus_cnt','num_voice_out','tech_sms_cnt_3m','tech_sms_cnt_6m',\n",
    "                 'device_cost','complex_value_sum','complex_value_size','imei_cnt','main_balance_adjust_minus_cnt'],\n",
    "med = []\n",
    "# Считаем медианные значение каждого признака:\n",
    "med.append(np.median(data['main_balance_adjust_minus_cnt'][np.isnan(data.main_balance_adjust_minus_cnt) == False]))\n",
    "med.append(np.median(data['num_voice_out'][np.isnan(data.num_voice_out) == False]))\n",
    "med.append(np.median(data['tech_sms_cnt_3m'][np.isnan(data.tech_sms_cnt_3m) == False]))\n",
    "med.append(np.median(data['tech_sms_cnt_6m'][np.isnan(data.tech_sms_cnt_6m) == False]))\n",
    "med.append(np.median(data['device_cost'][np.isnan(data.device_cost) == False]))\n",
    "med.append(np.median(data['complex_value_sum'][np.isnan(data.complex_value_sum) == False]))\n",
    "med.append(np.median(data['complex_value_size'][np.isnan(data.complex_value_size) == False]))\n",
    "med.append(np.median(data['imei_cnt'][np.isnan(data.imei_cnt) == False]))\n",
    "med.append(np.median(data['main_balance_adjust_minus_cnt'][np.isnan(data.main_balance_adjust_minus_cnt) == False]))\n",
    "# Заполняем пропуски медианой:\n",
    "for i in range(len(med)):\n",
    "    data[real_features[0][i]].fillna(med[i], inplace = True)"
   ]
  },
  {
   "cell_type": "markdown",
   "metadata": {},
   "source": [
    "***Посмотрим на корреляцию признаков***"
   ]
  },
  {
   "cell_type": "code",
   "execution_count": 11,
   "metadata": {},
   "outputs": [
    {
     "data": {
      "text/plain": [
       "<matplotlib.axes._subplots.AxesSubplot at 0x2b949f4bef0>"
      ]
     },
     "execution_count": 11,
     "metadata": {},
     "output_type": "execute_result"
    },
    {
     "data": {
      "image/png": "[encoded data removed]",
      "text/plain": [
       "<Figure size 432x288 with 2 Axes>"
      ]
     },
     "metadata": {
      "needs_background": "light"
     },
     "output_type": "display_data"
    }
   ],
   "source": [
    "heatmap(data.corr(), square=True)"
   ]
  },
  {
   "cell_type": "markdown",
   "metadata": {},
   "source": [
    "***Видим, что tech_sms_cnt_3m хорошо коррелирует с tech_sms_cnt_6m, это логично по сути признака.\n",
    "Так же очень сильно коррелируют month и year, дальше разберемся почему.\n",
    "К целевому признаку отличная корреляция у признака macro_state (макро-регион)***"
   ]
  },
  {
   "cell_type": "code",
   "execution_count": 12,
   "metadata": {},
   "outputs": [
    {
     "data": {
      "text/plain": [
       "<matplotlib.axes._subplots.AxesSubplot at 0x2b94b47d550>"
      ]
     },
     "execution_count": 12,
     "metadata": {},
     "output_type": "execute_result"
    },
    {
     "data": {
      "image/png": "[encoded data removed]",
      "text/plain": [
       "<Figure size 720x252 with 2 Axes>"
      ]
     },
     "metadata": {
      "needs_background": "light"
     },
     "output_type": "display_data"
    }
   ],
   "source": [
    "f, (ax1, ax2) = plt.subplots(1, 2, figsize=(10,3.5))\n",
    "countplot(x=data['macro_state'], data=data, ax=ax1, hue=\"target\")\n",
    "countplot(x=data['sim_type'], data=data, ax=ax2, hue=\"target\")"
   ]
  },
  {
   "cell_type": "markdown",
   "metadata": {},
   "source": [
    "***Видим, что почти у всех абонентов с macrostate (макрорегион) = 2 - две сим карты. Интересно заметить, что у некоторых абонентов с односимочным телефоном, так же две сим карты (возможно использование нескольких устройств)***"
   ]
  },
  {
   "cell_type": "markdown",
   "metadata": {},
   "source": [
    "***Посмотрим на кол-во уникальных значений категориальных признаков***"
   ]
  },
  {
   "cell_type": "code",
   "execution_count": 13,
   "metadata": {},
   "outputs": [
    {
     "data": {
      "image/png": "[encoded data removed]",
      "text/plain": [
       "<Figure size 1152x504 with 8 Axes>"
      ]
     },
     "metadata": {
      "needs_background": "light"
     },
     "output_type": "display_data"
    }
   ],
   "source": [
    "cat_features = ['tp_code','called_ctn_all_group', 'sim_type', 'state_code', 'macro_state', 'year', 'month']\n",
    "fig, axes = plt.subplots(2, 4, sharey=True, figsize=(16, 7))\n",
    "\n",
    "for i in range(len(cat_features)):\n",
    "    countplot(x=cat_features[i], data=data, ax=axes[int(i/4), int(i % 4)])"
   ]
  },
  {
   "cell_type": "markdown",
   "metadata": {},
   "source": [
    "***Кол-во уникальных значений признака 'tp_code' зашкаливает. Посмотрим его значение и удалим признак***"
   ]
  },
  {
   "cell_type": "code",
   "execution_count": 14,
   "metadata": {},
   "outputs": [
    {
     "name": "stdout",
     "output_type": "stream",
     "text": [
      "Кол-во уникальных значений признака \"tp_code\": 1407\n"
     ]
    }
   ],
   "source": [
    "print ('Кол-во уникальных значений признака \"tp_code\":', len(data['tp_code'].unique()))\n",
    "data.drop(['tp_code'], axis='columns', inplace=True)\n",
    "#data.drop(['state_code'], axis='columns', inplace=True)"
   ]
  },
  {
   "cell_type": "markdown",
   "metadata": {},
   "source": [
    "***Скорее всего year и month это шумовые признаки, которые никакой информации не несут. Это всего лишь дата добавления абонента в датасет. Видим, что абоненты добавлялись в датасет с декабря 2018го по февраль 2019го, отсюда и корреляция месяца с годом, полученная выше***"
   ]
  },
  {
   "cell_type": "code",
   "execution_count": 15,
   "metadata": {},
   "outputs": [],
   "source": [
    "data.drop(['year', 'month'], axis='columns', inplace=True)"
   ]
  },
  {
   "cell_type": "markdown",
   "metadata": {},
   "source": [
    "### Разделим датасет на обучение (где значение target определено) и на новые данные (где нужно определить значение target)"
   ]
  },
  {
   "cell_type": "code",
   "execution_count": 16,
   "metadata": {},
   "outputs": [],
   "source": [
    "mask = np.isnan(data['target']) == True\n",
    "data_new, data_train = data[mask], data[~mask]  # делим датафрейм"
   ]
  },
  {
   "cell_type": "code",
   "execution_count": 17,
   "metadata": {},
   "outputs": [],
   "source": [
    "# Сделаем новые индексы\n",
    "data_new.index = np.arange(len(data_new))\n",
    "data_train.index = np.arange(len(data_train))"
   ]
  },
  {
   "cell_type": "markdown",
   "metadata": {},
   "source": [
    "### Далее будем кодировать категориальные признаки:"
   ]
  },
  {
   "cell_type": "code",
   "execution_count": 18,
   "metadata": {},
   "outputs": [],
   "source": [
    "from sklearn.preprocessing import OneHotEncoder\n",
    "import scipy\n",
    "hot = OneHotEncoder()"
   ]
  },
  {
   "cell_type": "markdown",
   "metadata": {},
   "source": [
    "***Наверняка значения \"age_cat\"(возрастная категория) расставлены по логике: чем выше возраст, тем выше категория, или наоборот. То есть, можно будет сравнивать их по величине 1<4<10 ...\n",
    "Не будем переходить к бинарным признакам здесь. Оставим значения в integer. \n",
    "Macro_state также не будем кодировать, т.к всего два возможных значения без пропусков в данных***"
   ]
  },
  {
   "cell_type": "code",
   "execution_count": 19,
   "metadata": {},
   "outputs": [],
   "source": [
    "categorical_features_for_coding = ['state_code','called_ctn_all_group','sim_type']"
   ]
  },
  {
   "cell_type": "markdown",
   "metadata": {},
   "source": [
    "***Заполним все NaN в категориальных признаках на какое-то значение, например, строку 'Nan' или -1***"
   ]
  },
  {
   "cell_type": "code",
   "execution_count": 20,
   "metadata": {},
   "outputs": [],
   "source": [
    "for data_ in [data_new, data_train]:\n",
    "    for feature in categorical_features_for_coding:                            # В категориальных признаках:\n",
    "        if isinstance(data_[feature][0], str) == True:                         # Если это строка\n",
    "            data_[feature].fillna('Nan', inplace = True)                       # заменяем Nan на строковое значение\n",
    "        else:\n",
    "            data_[feature].fillna( np.max(data_[feature])+1., inplace = True)  # если тип числовой, заменяем на макс. значение +1"
   ]
  },
  {
   "cell_type": "markdown",
   "metadata": {},
   "source": [
    "***Кодируем категориальные признаки:***"
   ]
  },
  {
   "cell_type": "code",
   "execution_count": 21,
   "metadata": {},
   "outputs": [],
   "source": [
    "encoded_train = []\n",
    "encoded_new=[]\n",
    "for feature in categorical_features_for_coding:\n",
    "    hot = OneHotEncoder()\n",
    "    encoded_train.append( hot.fit_transform(np.array(data_train[feature]).reshape(-1,1)) )\n",
    "    encoded_new.append(( hot.transform(np.array(data_new[feature]).reshape(-1,1)) ))"
   ]
  },
  {
   "cell_type": "code",
   "execution_count": 22,
   "metadata": {},
   "outputs": [
    {
     "name": "stdout",
     "output_type": "stream",
     "text": [
      "\u001b[1mПолучившиеся размерности матриц новых бинарных признаков:\u001b[0m\n",
      "data_train (73249, 85) /\u001b[1m state_code \u001b[0m/ data_new: (16751, 85)\n",
      "data_train (73249, 28) /\u001b[1m called_ctn_all_group \u001b[0m/ data_new: (16751, 28)\n",
      "data_train (73249, 3) /\u001b[1m sim_type \u001b[0m/ data_new: (16751, 3)\n"
     ]
    }
   ],
   "source": [
    "print ('\\033[1mПолучившиеся размерности матриц новых бинарных признаков:\\033[0m')\n",
    "for i in range(len(encoded_train)):\n",
    "    print ('data_train', encoded_train[i].shape,'/\\033[1m', categorical_features_for_coding[i], '\\033[0m/ data_new:', encoded_new[i].shape)"
   ]
  },
  {
   "cell_type": "code",
   "execution_count": 23,
   "metadata": {},
   "outputs": [],
   "source": [
    "encoded_cat_features_train = scipy.sparse.hstack(encoded_train)   # Объединяем в одну матрицу кодированные кат.признаки\n",
    "encoded_cat_features_new = scipy.sparse.hstack(encoded_new)       # Объединяем в одну матрицу кодированные кат.признаки"
   ]
  },
  {
   "cell_type": "markdown",
   "metadata": {},
   "source": [
    "***Создадим матрицу из остальных признаков (не кодированных категориальных) и соединим с кодированной***"
   ]
  },
  {
   "cell_type": "code",
   "execution_count": 24,
   "metadata": {},
   "outputs": [],
   "source": [
    "# Делаем матрицу из остальных признаков:\n",
    "data_other_features_new = []        # список с матрицами признаков для новой выборки\n",
    "data_other_features_train = []      # список с матрицами признаков для обучающей выборки\n",
    "for column in data_train.columns:                                      # для всех признаков\n",
    "    # если не катег. кодидорванный и не целевой признак, добавляем в список:\n",
    "    if (column not in categorical_features_for_coding) and column not in ['target']:         \n",
    "        data_other_features_train.append(scipy.sparse.csr_matrix(data_train[column].values).T)\n",
    "        data_other_features_new.append(scipy.sparse.csr_matrix(data_new[column].values).T)      "
   ]
  },
  {
   "cell_type": "code",
   "execution_count": 25,
   "metadata": {},
   "outputs": [],
   "source": [
    "# Объединяем в одну матрицу остальные признаки:\n",
    "other_features_train = scipy.sparse.hstack(data_other_features_train)   \n",
    "other_features_new = scipy.sparse.hstack(data_other_features_new)"
   ]
  },
  {
   "cell_type": "code",
   "execution_count": 26,
   "metadata": {},
   "outputs": [],
   "source": [
    "# Объединяем в конечное признаковое пространство ост.признаки и кодир.кат.признаки:\n",
    "X = scipy.sparse.hstack([other_features_train, encoded_cat_features_train])\n",
    "X_new = scipy.sparse.hstack([other_features_new, encoded_cat_features_new])"
   ]
  },
  {
   "cell_type": "code",
   "execution_count": 27,
   "metadata": {},
   "outputs": [],
   "source": [
    "y = np.array(data_train['target'])\n",
    "y_new = np.array(data_new['target'])"
   ]
  },
  {
   "cell_type": "markdown",
   "metadata": {},
   "source": [
    "***Разделим объекты с ответами на тестовую и обучающую части. По заданию нужно написать функции оценки метрик (пункт 5), поэтому оставим 1% выборки для этого***"
   ]
  },
  {
   "cell_type": "code",
   "execution_count": 28,
   "metadata": {},
   "outputs": [],
   "source": [
    "# Разделим нашу выборку на обучение и тест:\n",
    "from sklearn import model_selection\n",
    "(X_train, X_test, y_train, y_test) = model_selection.train_test_split(X, y, test_size=0.01, shuffle = True)"
   ]
  },
  {
   "cell_type": "markdown",
   "metadata": {},
   "source": [
    "# 2, 4. Создаём модель      ___------------------------------------------------___"
   ]
  },
  {
   "cell_type": "markdown",
   "metadata": {},
   "source": [
    "## Модель Решающее дерево. Decision Tree"
   ]
  },
  {
   "cell_type": "code",
   "execution_count": 29,
   "metadata": {},
   "outputs": [],
   "source": [
    "from numpy import asmatrix\n",
    "from matplotlib import pylab\n",
    "import matplotlib"
   ]
  },
  {
   "cell_type": "markdown",
   "metadata": {},
   "source": [
    "***Судя по всему для данной задачи не нужна сложная модель, будем использовать просто решающее дерево***"
   ]
  },
  {
   "cell_type": "code",
   "execution_count": 30,
   "metadata": {},
   "outputs": [],
   "source": [
    "from sklearn.tree import DecisionTreeClassifier"
   ]
  },
  {
   "cell_type": "code",
   "execution_count": 31,
   "metadata": {},
   "outputs": [],
   "source": [
    "depth_range =  np.geomspace(1, 1000, 10)        # минимум глубина, максимум глубина дерева, кол-во элементов\n",
    "criterion = ['entropy', 'gini']\n",
    "cv = 3                                           # Кол-во фолдов кросс-валидации"
   ]
  },
  {
   "cell_type": "markdown",
   "metadata": {},
   "source": [
    "***Метрику качества будем использовать 'accuracy' (доля верных ответов), т.к в задании не указано, для чего будет использоваться модель, и зачем нужно отделять односимочных абонентов от мултисимочных. Можно предположить, что требуется одинаково хорошо опрелять и односимочника, и мультисимочника, чтобы давать им какие-то определенные предложения, скидки, бонусы и т.п., которые будут интересны именно им, как владельцам только одной или двух сим карт*** "
   ]
  },
  {
   "cell_type": "code",
   "execution_count": 32,
   "metadata": {},
   "outputs": [],
   "source": [
    "def Tree_params(critetion, depth_range, X_train, y_train,cv):\n",
    "    # ФУНКЦИЯ ОПРЕДЕЛЯЕТ НАИЛУЧШИЕ ПАРАМЕТРЫ ДЕРЕВА                   \n",
    "    scoring = []     \n",
    "    # Задаём диапазон макс.глубины дерева геометрической прогрессией, чтобы увеличивать шаг с ростом значения:\n",
    "    max_depths = np.geomspace(1, 10000, 10,dtype = int)  \n",
    "    for depth in max_depths:\n",
    "        for criter in criterion:\n",
    "            Tree = DecisionTreeClassifier(criterion = criter, max_depth = depth) \n",
    "            score = model_selection.cross_val_score(Tree, X_train, y_train, \n",
    "                                                     scoring = 'accuracy', cv = 3)   \n",
    "            scoring.append(score)\n",
    "    scoring = asmatrix(scoring)\n",
    "    first = int(0)\n",
    "    last = int((len(scoring.mean(axis = 1))/len(criterion)))\n",
    "    step = int(last)\n",
    "    for i in range(len(criterion)):\n",
    "        pylab.plot(max_depths, scoring.mean(axis = 1)[first:last], marker='.', label=criterion[i])\n",
    "        first = last           # начальное становится последним\n",
    "        last += step           # увеличиваем конечное значение на значение шага\n",
    "        fig = plt.gcf()\n",
    "        fig.set_size_inches(10, 4, forward=True)\n",
    "    pylab.grid(True)\n",
    "    pylab.xlabel('max_depths')\n",
    "    pylab.ylabel('Accuracy_score')\n",
    "    pylab.title('Parameters selection for Decision Tree')\n",
    "    pylab.legend(loc='best', title = 'criterion')\n",
    "    # Определяем лучшие параметры:\n",
    "    scoring_max, criterion_best, depth_best = 0, 0, 0\n",
    "    for i in range(len(criterion)):\n",
    "        for d in range(len(max_depths)):\n",
    "            if scoring.mean(axis = 1)[i+d*len(criterion)] > scoring_max:\n",
    "                scoring_max = scoring.mean(axis = 1)[i+d*len(criterion)]\n",
    "                criterion_best = criterion[i]\n",
    "                depth_best = max_depths[d]\n",
    "                \n",
    "    print ('\\nЛучшая глубина дерева из анализируемых точек:', ' ',depth_best,' Лучший критерий:', ' ',criterion_best, 'Accuracy:', scoring_max, sep = '')\n",
    "    return(criterion_best, depth_best)"
   ]
  },
  {
   "cell_type": "code",
   "execution_count": 33,
   "metadata": {},
   "outputs": [
    {
     "name": "stdout",
     "output_type": "stream",
     "text": [
      "\n",
      "Лучшая глубина дерева из анализируемых точек: 464 Лучший критерий: entropyAccuracy:[[0.98259694]]\n"
     ]
    },
    {
     "data": {
      "image/png": "[encoded data removed]",
      "text/plain": [
       "<Figure size 720x288 with 1 Axes>"
      ]
     },
     "metadata": {
      "needs_background": "light"
     },
     "output_type": "display_data"
    }
   ],
   "source": [
    "criterion_best, depth_best = Tree_params(criterion, depth_range, X_train, y_train,cv)"
   ]
  },
  {
   "cell_type": "markdown",
   "metadata": {},
   "source": [
    "***Видим, что по энтропийному критерию лучше не ограничивать глубину дерева. По критерию джини наблюдаем практичеки прямую параллельную оси абсцисс, на уровне доли верных ответов 98.2% при любом ограничении глубины***"
   ]
  },
  {
   "cell_type": "markdown",
   "metadata": {},
   "source": [
    "***Не будем ограничивать глубину дерева и возьмём энтропийный критерий для конечной модели***"
   ]
  },
  {
   "cell_type": "code",
   "execution_count": 34,
   "metadata": {},
   "outputs": [],
   "source": [
    "Tree = DecisionTreeClassifier(criterion = 'entropy')  # создаём модель"
   ]
  },
  {
   "cell_type": "code",
   "execution_count": 35,
   "metadata": {},
   "outputs": [
    {
     "data": {
      "text/plain": [
       "DecisionTreeClassifier(class_weight=None, criterion='entropy', max_depth=None,\n",
       "                       max_features=None, max_leaf_nodes=None,\n",
       "                       min_impurity_decrease=0.0, min_impurity_split=None,\n",
       "                       min_samples_leaf=1, min_samples_split=2,\n",
       "                       min_weight_fraction_leaf=0.0, presort=False,\n",
       "                       random_state=None, splitter='best')"
      ]
     },
     "execution_count": 35,
     "metadata": {},
     "output_type": "execute_result"
    }
   ],
   "source": [
    "Tree.fit(X_train, y_train)                            # обучаем"
   ]
  },
  {
   "cell_type": "code",
   "execution_count": 36,
   "metadata": {},
   "outputs": [],
   "source": [
    "score = model_selection.cross_val_score(Tree, X_train, y_train, scoring = 'accuracy', cv = cv)  "
   ]
  },
  {
   "cell_type": "code",
   "execution_count": 37,
   "metadata": {},
   "outputs": [
    {
     "name": "stdout",
     "output_type": "stream",
     "text": [
      "\u001b[1mAccuracy score по кросс-валидации: 0.9821 \u001b[0m\n"
     ]
    }
   ],
   "source": [
    "print ('\\033[1mAccuracy score по кросс-валидации:', np.round(np.mean(score),4),'\\033[0m')"
   ]
  },
  {
   "cell_type": "markdown",
   "metadata": {},
   "source": [
    "***Получился неплохой результат***"
   ]
  },
  {
   "cell_type": "markdown",
   "metadata": {},
   "source": [
    "# 5. Создаём функции метрик и даём вектор ответов на целевой признак с NaN"
   ]
  },
  {
   "cell_type": "code",
   "execution_count": 38,
   "metadata": {},
   "outputs": [],
   "source": [
    "# Инициализируем переменные:\n",
    "TP = 0  # True Positive\n",
    "FP = 0  # False Positive\n",
    "TN = 0  # True Negative\n",
    "FN = 0  # False Negative\n",
    "for i in range(len(y_test)):\n",
    "    if Tree.predict_proba(X_test)[:,1][i] == 1 and y_test[i] == 1 :  # True Positive\n",
    "        TP += 1\n",
    "    elif Tree.predict_proba(X_test)[:,1][i] == 1 and y_test[i] == 0: # False Positive\n",
    "        FP += 1\n",
    "    elif Tree.predict_proba(X_test)[:,1][i] == 0 and y_test[i] == 0: # True Negative\n",
    "        TN += 1\n",
    "    elif Tree.predict_proba(X_test)[:,1][i] == 0 and y_test[i] == 1: # False Negative\n",
    "        FN += 1"
   ]
  },
  {
   "cell_type": "markdown",
   "metadata": {},
   "source": [
    "***Функции базовых метрик***"
   ]
  },
  {
   "cell_type": "code",
   "execution_count": 39,
   "metadata": {},
   "outputs": [],
   "source": [
    "# Доля верных ответов:\n",
    "def accuracy(TP, FP, TN, FN):\n",
    "    accuracy_ = (TP + TN) / (TP + FP + TN + FN)\n",
    "    return (accuracy_)\n",
    "# Точность:\n",
    "def precision(TP, FP):\n",
    "    precision_ = TP / (TP + FP)\n",
    "    return (precision_)\n",
    "# Полнота:\n",
    "def recall(TP, FN):\n",
    "    recall_ = TP / (TP + FN)  \n",
    "    return (recall_)"
   ]
  },
  {
   "cell_type": "code",
   "execution_count": 40,
   "metadata": {
    "scrolled": true
   },
   "outputs": [
    {
     "name": "stdout",
     "output_type": "stream",
     "text": [
      "\u001b[1mДоля верных ответов на тестовой выборке: 0.9918144611186903 Точность: 0.9917355371900827 Полнота: 0.9917355371900827 \u001b[0m\n"
     ]
    }
   ],
   "source": [
    "print ('\\033[1mДоля верных ответов на тестовой выборке:', accuracy(TP, FP, TN, FN),'Точность:\\\n",
    "', precision(TP, FP), 'Полнота:', recall(TP, FN),'\\033[0m')"
   ]
  },
  {
   "cell_type": "markdown",
   "metadata": {},
   "source": [
    "***На тестовой выборке почти все ответы алгоритма даны верно***"
   ]
  },
  {
   "cell_type": "markdown",
   "metadata": {},
   "source": [
    "***Предсказания алгоритма на новых признаках:***"
   ]
  },
  {
   "cell_type": "code",
   "execution_count": 41,
   "metadata": {},
   "outputs": [
    {
     "data": {
      "text/plain": [
       "array([0., 0., 0., ..., 0., 0., 1.])"
      ]
     },
     "execution_count": 41,
     "metadata": {},
     "output_type": "execute_result"
    }
   ],
   "source": [
    "Tree.predict_proba(X_new)[:,1] "
   ]
  },
  {
   "cell_type": "markdown",
   "metadata": {},
   "source": [
    "***Посмотрим, сколько элементов каждого класса указала модель на новых данных:***"
   ]
  },
  {
   "cell_type": "code",
   "execution_count": 42,
   "metadata": {},
   "outputs": [
    {
     "data": {
      "text/plain": [
       "Counter({0.0: 13231, 1.0: 3520})"
      ]
     },
     "execution_count": 42,
     "metadata": {},
     "output_type": "execute_result"
    }
   ],
   "source": [
    "from collections import Counter\n",
    "Counter(Tree.predict_proba(X_new)[:,1] )"
   ]
  },
  {
   "cell_type": "markdown",
   "metadata": {},
   "source": [
    "***Указано подавляющее большинство односимочников, хотя классы в данных на которых мы обучались были вполне сбалансированы. Надеемся, модель не ошибается :)***"
   ]
  },
  {
   "cell_type": "markdown",
   "metadata": {},
   "source": [
    "# 6. Что делать дальше"
   ]
  },
  {
   "cell_type": "markdown",
   "metadata": {},
   "source": [
    "***Обзванивать мультисимеров, предлагать отказаться от второй сим-карты, подстроив тариф под нужды и желания мультисимера.\n",
    "Односимерам за верность компании - подарочки :D***"
   ]
  }
 ],
 "metadata": {
  "kernelspec": {
   "display_name": "Python 3",
   "language": "python",
   "name": "python3"
  },
  "language_info": {
   "codemirror_mode": {
    "name": "ipython",
    "version": 3
   },
   "file_extension": ".py",
   "mimetype": "text/x-python",
   "name": "python",
   "nbconvert_exporter": "python",
   "pygments_lexer": "ipython3",
   "version": "3.7.3"
  },
  "toc": {
   "base_numbering": 1,
   "nav_menu": {},
   "number_sections": true,
   "sideBar": true,
   "skip_h1_title": false,
   "title_cell": "Table of Contents",
   "title_sidebar": "Contents",
   "toc_cell": false,
   "toc_position": {},
   "toc_section_display": true,
   "toc_window_display": false
  }
 },
 "nbformat": 4,
 "nbformat_minor": 2
}
